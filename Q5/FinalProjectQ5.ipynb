{
 "cells": [
  {
   "cell_type": "code",
   "execution_count": 248,
   "metadata": {},
   "outputs": [],
   "source": [
    "import pandas as pd\n",
    "import numpy as np\n",
    "from datetime import datetime\n",
    "from sklearn.model_selection import train_test_split, KFold, LeaveOneOut\n",
    "from sklearn.neighbors import KNeighborsClassifier\n",
    "from sklearn import preprocessing\n",
    "from sklearn import metrics\n",
    "import matplotlib.pyplot as plt\n",
    "from sklearn import tree\n",
    "from sklearn.ensemble import RandomForestClassifier"
   ]
  },
  {
   "cell_type": "code",
   "execution_count": 249,
   "metadata": {},
   "outputs": [],
   "source": [
    "# humidity data\n",
    "humidity = pd.read_csv(\"humidity.csv\").dropna()\n",
    "humidity[\"datetime\"] = humidity.datetime.str[:10]\n",
    "humidity_avg = humidity.groupby([\"datetime\"]).mean()[[\"Seattle\"]]\n",
    "humidity_avg.columns = [\"humidity\"]\n",
    "\n",
    "# pressure data\n",
    "pressure = pd.read_csv(\"pressure.csv\").dropna()\n",
    "pressure[\"datetime\"] = pressure.datetime.str[:10]\n",
    "pressure_avg = pressure.groupby([\"datetime\"]).mean()[[\"Seattle\"]]\n",
    "pressure_avg.columns = [\"pressure\"]\n",
    "\n",
    "# temperature data\n",
    "temperature = pd.read_csv(\"temperature.csv\").dropna()\n",
    "temperature[\"datetime\"] = temperature.datetime.str[:10]\n",
    "temperature_avg = temperature.groupby([\"datetime\"]).mean()[[\"Seattle\"]]\n",
    "temperature_avg.columns = [\"temperature\"]\n",
    "\n",
    "# wind_direction\n",
    "wind_direction = pd.read_csv(\"wind_direction.csv\").dropna()\n",
    "wind_direction[\"datetime\"] = wind_direction.datetime.str[:10]\n",
    "wind_direction_avg = wind_direction.groupby([\"datetime\"]).mean()[[\"Seattle\"]]\n",
    "wind_direction_avg.columns = [\"wind_direction\"]\n",
    "\n",
    "# wind_speed\n",
    "wind_speed = pd.read_csv(\"wind_speed.csv\").dropna()\n",
    "wind_speed[\"datetime\"] = wind_speed.datetime.str[:10]\n",
    "wind_speed_avg = wind_speed.groupby([\"datetime\"]).mean()[[\"Seattle\"]]\n",
    "wind_speed_avg.columns = [\"wind_speed\"]\n",
    "\n",
    "# # weather description\n",
    "# description = pd.read_csv(\"description.csv\").dropna()\n",
    "# description[\"datetime\"] = description.datetime.str[:10]\n",
    "# description = description.groupby([\"datetime\"]).mean()[[\"Seattle\"]]\n",
    "# description.columns = [\"description\"]"
   ]
  },
  {
   "cell_type": "code",
   "execution_count": 250,
   "metadata": {},
   "outputs": [],
   "source": [
    "all_avg = humidity_avg.join(pressure_avg, how=\"inner\").join(temperature_avg, how=\"inner\").join(wind_direction_avg, how=\"inner\").join(wind_speed_avg, how=\"inner\")"
   ]
  },
  {
   "cell_type": "code",
   "execution_count": 251,
   "metadata": {},
   "outputs": [],
   "source": [
    "crisis = pd.read_csv(\"crisis-data.csv\").dropna()\n",
    "crisis = crisis.sort_values(by=[\"Reported Date\"])\n",
    "num_crisis = crisis.groupby([\"Reported Date\"]).count()\n",
    "num_crisis = num_crisis[[\"Reported Time\"]]\n",
    "num_crisis.columns = [\"num_crimes\"]"
   ]
  },
  {
   "cell_type": "code",
   "execution_count": 252,
   "metadata": {},
   "outputs": [],
   "source": [
    "final = all_avg.join(num_crisis, how=\"inner\")\n",
    "\n",
    "\n",
    "groupings = [\"(0-5)\", \"(6-10)\", \"(11-15)\", \"(16-20)\", \"(21-25)\", \"(26-30)\", \"(>30)\"]\n",
    "\n",
    "\n",
    "def categorize(num):\n",
    "    if num <= 5:\n",
    "        return groupings[0]\n",
    "    elif num <= 10:\n",
    "        return groupings[1]\n",
    "    elif num <= 15:\n",
    "        return groupings[2]\n",
    "    elif num <= 20:\n",
    "        return groupings[3]\n",
    "    elif num <= 25:\n",
    "        return groupings[4]\n",
    "    elif num <= 30:\n",
    "        return groupings[5]\n",
    "    else:\n",
    "        return groupings[6]\n",
    "    \n",
    "final[\"num_crimes\"] = [categorize(x) for x in final[\"num_crimes\"]]"
   ]
  },
  {
   "cell_type": "code",
   "execution_count": 253,
   "metadata": {},
   "outputs": [],
   "source": [
    "work = final.copy()\n",
    "\n",
    "le = preprocessing.LabelEncoder()\n",
    "\n",
    "crimes_encoded = (le.fit_transform(work[\"num_crimes\"]))\n",
    "\n",
    "work[\"num_crimes\"] = crimes_encoded\n",
    "\n",
    "\n",
    "features = work.iloc[:,0:5].values\n",
    "labels = work.iloc[:,-1].values\n"
   ]
  },
  {
   "cell_type": "code",
   "execution_count": 254,
   "metadata": {},
   "outputs": [
    {
     "name": "stdout",
     "output_type": "stream",
     "text": [
      "Accuracy: 0.3081761006289308\n"
     ]
    }
   ],
   "source": [
    "X_train, X_test, y_train, y_test = train_test_split(features, labels, test_size=0.25)\n",
    "\n",
    "knn_model = KNeighborsClassifier(n_neighbors=2)\n",
    "knn_model.fit(X_train, y_train)\n",
    "\n",
    "y_pred = knn_model.predict(X_test)\n",
    "\n",
    "print(\"Accuracy:\", metrics.accuracy_score(y_test, y_pred))"
   ]
  },
  {
   "cell_type": "code",
   "execution_count": 255,
   "metadata": {},
   "outputs": [
    {
     "data": {
      "text/plain": [
       "[0.2740823412698413,\n",
       " 0.31034226190476194,\n",
       " 0.3203042328042329,\n",
       " 0.31737971230158746,\n",
       " 0.3175496031746034,\n",
       " 0.32027529761904766,\n",
       " 0.32379180839002264,\n",
       " 0.3268229166666666,\n",
       " 0.32987764550264537,\n",
       " 0.3315178571428571,\n",
       " 0.33415178571428567]"
      ]
     },
     "execution_count": 255,
     "metadata": {},
     "output_type": "execute_result"
    }
   ],
   "source": [
    "# KNN\n",
    "kf = KFold(n_splits=10)\n",
    "tot_acc = []\n",
    "neighbours = [1, 2, 3, 4, 5, 7, 10, 15, 20, 25, 30]\n",
    "accuracies = []\n",
    "\n",
    "for num in neighbours:\n",
    "\n",
    "    knn_model = KNeighborsClassifier(n_neighbors=num)\n",
    "    for train_index, test_index in kf.split(features,labels):\n",
    "        X_train, X_test = features[train_index], features[test_index]\n",
    "        y_train, y_test = labels[train_index], labels[test_index]\n",
    "        knn_model.fit(X_train, y_train)\n",
    "        y_pred = knn_model.predict(X_test)\n",
    "        accuracies.append(metrics.accuracy_score(y_test, y_pred))\n",
    "    tot_acc.append(sum(accuracies) / len(accuracies))\n",
    "tot_acc"
   ]
  },
  {
   "cell_type": "code",
   "execution_count": 256,
   "metadata": {},
   "outputs": [
    {
     "data": {
      "image/png": "[encoded data removed]",
      "text/plain": [
       "<matplotlib.figure.Figure at 0x11b4ac780>"
      ]
     },
     "metadata": {},
     "output_type": "display_data"
    }
   ],
   "source": [
    "plt.plot(neighbours, tot_acc)\n",
    "plt.ylabel('Accuracy')\n",
    "plt.xlabel('Nearest Neighbors')\n",
    "plt.title('Accuracy vs. Number of Nearest Neighbors')\n",
    "plt.savefig('knn.png')"
   ]
  },
  {
   "cell_type": "code",
   "execution_count": 257,
   "metadata": {},
   "outputs": [
    {
     "data": {
      "text/plain": [
       "[0.3967237903225806]"
      ]
     },
     "execution_count": 257,
     "metadata": {},
     "output_type": "execute_result"
    }
   ],
   "source": [
    "# Decision Tree n-Folds\n",
    "kf = KFold(n_splits=20)\n",
    "tot_acc = []\n",
    "accuracies = []\n",
    "\n",
    "model = tree.DecisionTreeClassifier()\n",
    "\n",
    "for train_index, test_index in kf.split(features,labels):\n",
    "    X_train, X_test = features[train_index], features[test_index]\n",
    "    y_train, y_test = labels[train_index], labels[test_index]\n",
    "    model.fit(X_train, y_train)\n",
    "    y_pred = knn_model.predict(X_test)\n",
    "    accuracies.append(metrics.accuracy_score(y_test, y_pred))\n",
    "tot_acc.append(sum(accuracies) / len(accuracies))\n",
    "tot_acc"
   ]
  },
  {
   "cell_type": "code",
   "execution_count": 258,
   "metadata": {},
   "outputs": [
    {
     "data": {
      "text/plain": [
       "[0.3968503937007874]"
      ]
     },
     "execution_count": 258,
     "metadata": {},
     "output_type": "execute_result"
    }
   ],
   "source": [
    "# Decision Tree all-but-one\n",
    "loo = LeaveOneOut()\n",
    "tot_acc = []\n",
    "accuracies = []\n",
    "\n",
    "model = tree.DecisionTreeClassifier()\n",
    "\n",
    "for train_index, test_index in loo.split(features,labels):\n",
    "    X_train, X_test = features[train_index], features[test_index]\n",
    "    y_train, y_test = labels[train_index], labels[test_index]\n",
    "    model.fit(X_train, y_train)\n",
    "    y_pred = knn_model.predict(X_test)\n",
    "    accuracies.append(metrics.accuracy_score(y_test, y_pred))\n",
    "tot_acc.append(sum(accuracies) / len(accuracies))\n",
    "tot_acc"
   ]
  },
  {
   "cell_type": "code",
   "execution_count": 259,
   "metadata": {},
   "outputs": [],
   "source": [
    "clf = RandomForestClassifier(n_estimators=100)\n",
    "\n",
    "kf = KFold(n_splits=10)\n",
    "tot_acc = []\n",
    "accuracies = []\n",
    "\n",
    "\n",
    "for train_index, test_index in kf.split(features,labels):\n",
    "    X_train, X_test = features[train_index], features[test_index]\n",
    "    y_train, y_test = labels[train_index], labels[test_index]\n",
    "    clf.fit(X_train, y_train)\n",
    "    y_pred = knn_model.predict(X_test)\n",
    "    accuracies.append(metrics.accuracy_score(y_test, y_pred))\n",
    "tot_acc.append(sum(accuracies) / len(accuracies))"
   ]
  }
 ],
 "metadata": {
  "kernelspec": {
   "display_name": "Python 3",
   "language": "python",
   "name": "python3"
  },
  "language_info": {
   "codemirror_mode": {
    "name": "ipython",
    "version": 3
   },
   "file_extension": ".py",
   "mimetype": "text/x-python",
   "name": "python",
   "nbconvert_exporter": "python",
   "pygments_lexer": "ipython3",
   "version": "3.6.4"
  }
 },
 "nbformat": 4,
 "nbformat_minor": 2
}
