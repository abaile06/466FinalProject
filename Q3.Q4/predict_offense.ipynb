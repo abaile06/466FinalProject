{
 "cells": [
  {
   "cell_type": "code",
   "execution_count": 1,
   "metadata": {},
   "outputs": [],
   "source": [
    "import numpy as np\n",
    "import pandas as pd\n",
    "import os\n",
    "import matplotlib.pyplot as plt\n",
    "import collections"
   ]
  },
  {
   "cell_type": "code",
   "execution_count": 2,
   "metadata": {},
   "outputs": [],
   "source": [
    "complaint_data = pd.read_csv('NYPD_Complaint_Data_Historic.csv', dtype=object)\n",
    "population_data = pd.read_csv('Population_by_Borough_NYC.csv')\n",
    "crime_data = pd.read_csv('Crime_Column_Description.csv')"
   ]
  },
  {
   "cell_type": "code",
   "execution_count": 3,
   "metadata": {},
   "outputs": [],
   "source": [
    "from collections import defaultdict\n",
    "\n",
    "months_by_count = {i+1: 0 for i in range(12)}\n",
    "days_by_count = {i+1: 0 for i in range(31)}\n",
    "years_by_count = defaultdict(int)\n",
    "day_of_year = {}\n",
    "\n",
    "for i in complaint_data['CMPLNT_FR_DT']:\n",
    "    if ( isinstance(i ,str) ):\n",
    "        dates = i.split('/')\n",
    "        months_by_count[int(dates[0])] += 1\n",
    "        days_by_count[int(dates[1])] += 1\n",
    "        years_by_count[int(dates[2])] += 1\n",
    "        \n",
    "        day_of_year[dates[0] + '/' + dates[1] ] = day_of_year.get(dates[0] + '/' + dates[1] ,0) + 1"
   ]
  },
  {
   "cell_type": "code",
   "execution_count": 4,
   "metadata": {},
   "outputs": [
    {
     "data": {
      "image/png": "[encoded data removed]",
      "text/plain": [
       "<Figure size 720x504 with 1 Axes>"
      ]
     },
     "metadata": {},
     "output_type": "display_data"
    }
   ],
   "source": [
    "plt.figure(figsize=[10,7])\n",
    "\n",
    "day_of_year = dict(collections.Counter(day_of_year).most_common(10))\n",
    "plt.bar(day_of_year.keys(), day_of_year.values())\n",
    "plt.gca().set_ylim(ymin=3500)\n",
    "plt.ylabel('Amount of Crimes')\n",
    "plt.xlabel('Dates')\n",
    "plt.title('Days with Most Reported Crimes')\n",
    "plt.show()"
   ]
  },
  {
   "cell_type": "code",
   "execution_count": 5,
   "metadata": {},
   "outputs": [],
   "source": [
    "complaint_data = complaint_data.drop([\"KY_CD\", \"PD_CD\", \"RPT_DT\", \"PARKS_NM\", \"HADEVELOPT\", \"Lat_Lon\", \"PREM_TYP_DESC\", \"LOC_OF_OCCUR_DESC\", \"PD_DESC\", \"OFNS_DESC\", \"CMPLNT_TO_TM\", \"CMPLNT_TO_DT\", \"CMPLNT_NUM\", \"X_COORD_CD\", \"Y_COORD_CD\", \"JURIS_DESC\", \"CRM_ATPT_CPTD_CD\"], axis = 1)\n"
   ]
  },
  {
   "cell_type": "code",
   "execution_count": 6,
   "metadata": {},
   "outputs": [],
   "source": [
    "complaint_data = complaint_data.dropna()"
   ]
  },
  {
   "cell_type": "code",
   "execution_count": 7,
   "metadata": {},
   "outputs": [
    {
     "data": {
      "text/html": [
       "<div>\n",
       "<style scoped>\n",
       "    .dataframe tbody tr th:only-of-type {\n",
       "        vertical-align: middle;\n",
       "    }\n",
       "\n",
       "    .dataframe tbody tr th {\n",
       "        vertical-align: top;\n",
       "    }\n",
       "\n",
       "    .dataframe thead th {\n",
       "        text-align: right;\n",
       "    }\n",
       "</style>\n",
       "<table border=\"1\" class=\"dataframe\">\n",
       "  <thead>\n",
       "    <tr style=\"text-align: right;\">\n",
       "      <th></th>\n",
       "      <th>CMPLNT_FR_DT</th>\n",
       "      <th>CMPLNT_FR_TM</th>\n",
       "      <th>LAW_CAT_CD</th>\n",
       "      <th>BORO_NM</th>\n",
       "      <th>ADDR_PCT_CD</th>\n",
       "      <th>Latitude</th>\n",
       "      <th>Longitude</th>\n",
       "    </tr>\n",
       "  </thead>\n",
       "  <tbody>\n",
       "    <tr>\n",
       "      <th>0</th>\n",
       "      <td>12/31/2015</td>\n",
       "      <td>23:45:00</td>\n",
       "      <td>FELONY</td>\n",
       "      <td>BRONX</td>\n",
       "      <td>44</td>\n",
       "      <td>40.82884833</td>\n",
       "      <td>-73.91666114</td>\n",
       "    </tr>\n",
       "    <tr>\n",
       "      <th>1</th>\n",
       "      <td>12/31/2015</td>\n",
       "      <td>23:36:00</td>\n",
       "      <td>FELONY</td>\n",
       "      <td>QUEENS</td>\n",
       "      <td>103</td>\n",
       "      <td>40.69733814</td>\n",
       "      <td>-73.78455674</td>\n",
       "    </tr>\n",
       "    <tr>\n",
       "      <th>2</th>\n",
       "      <td>12/31/2015</td>\n",
       "      <td>23:30:00</td>\n",
       "      <td>FELONY</td>\n",
       "      <td>MANHATTAN</td>\n",
       "      <td>28</td>\n",
       "      <td>40.80260661</td>\n",
       "      <td>-73.94505191</td>\n",
       "    </tr>\n",
       "    <tr>\n",
       "      <th>3</th>\n",
       "      <td>12/31/2015</td>\n",
       "      <td>23:30:00</td>\n",
       "      <td>MISDEMEANOR</td>\n",
       "      <td>QUEENS</td>\n",
       "      <td>105</td>\n",
       "      <td>40.65454944</td>\n",
       "      <td>-73.72633879</td>\n",
       "    </tr>\n",
       "    <tr>\n",
       "      <th>4</th>\n",
       "      <td>12/31/2015</td>\n",
       "      <td>23:25:00</td>\n",
       "      <td>MISDEMEANOR</td>\n",
       "      <td>MANHATTAN</td>\n",
       "      <td>13</td>\n",
       "      <td>40.7380024</td>\n",
       "      <td>-73.98789129</td>\n",
       "    </tr>\n",
       "  </tbody>\n",
       "</table>\n",
       "</div>"
      ],
      "text/plain": [
       "  CMPLNT_FR_DT CMPLNT_FR_TM   LAW_CAT_CD    BORO_NM ADDR_PCT_CD     Latitude  \\\n",
       "0   12/31/2015     23:45:00       FELONY      BRONX          44  40.82884833   \n",
       "1   12/31/2015     23:36:00       FELONY     QUEENS         103  40.69733814   \n",
       "2   12/31/2015     23:30:00       FELONY  MANHATTAN          28  40.80260661   \n",
       "3   12/31/2015     23:30:00  MISDEMEANOR     QUEENS         105  40.65454944   \n",
       "4   12/31/2015     23:25:00  MISDEMEANOR  MANHATTAN          13   40.7380024   \n",
       "\n",
       "      Longitude  \n",
       "0  -73.91666114  \n",
       "1  -73.78455674  \n",
       "2  -73.94505191  \n",
       "3  -73.72633879  \n",
       "4  -73.98789129  "
      ]
     },
     "execution_count": 7,
     "metadata": {},
     "output_type": "execute_result"
    }
   ],
   "source": [
    "complaint_data.head(5)"
   ]
  },
  {
   "cell_type": "code",
   "execution_count": 8,
   "metadata": {},
   "outputs": [
    {
     "data": {
      "text/html": [
       "<div>\n",
       "<style scoped>\n",
       "    .dataframe tbody tr th:only-of-type {\n",
       "        vertical-align: middle;\n",
       "    }\n",
       "\n",
       "    .dataframe tbody tr th {\n",
       "        vertical-align: top;\n",
       "    }\n",
       "\n",
       "    .dataframe thead th {\n",
       "        text-align: right;\n",
       "    }\n",
       "</style>\n",
       "<table border=\"1\" class=\"dataframe\">\n",
       "  <thead>\n",
       "    <tr style=\"text-align: right;\">\n",
       "      <th></th>\n",
       "      <th>LAW_CAT_CD</th>\n",
       "      <th>BORO_NM</th>\n",
       "      <th>ADDR_PCT_CD</th>\n",
       "      <th>Latitude</th>\n",
       "      <th>Longitude</th>\n",
       "      <th>HOUR</th>\n",
       "      <th>MINUTE</th>\n",
       "      <th>MONTH</th>\n",
       "      <th>DAY</th>\n",
       "      <th>YEAR</th>\n",
       "    </tr>\n",
       "  </thead>\n",
       "  <tbody>\n",
       "    <tr>\n",
       "      <th>0</th>\n",
       "      <td>FELONY</td>\n",
       "      <td>BRONX</td>\n",
       "      <td>44</td>\n",
       "      <td>40.82884833</td>\n",
       "      <td>-73.91666114</td>\n",
       "      <td>23</td>\n",
       "      <td>45</td>\n",
       "      <td>12</td>\n",
       "      <td>31</td>\n",
       "      <td>2015</td>\n",
       "    </tr>\n",
       "    <tr>\n",
       "      <th>1</th>\n",
       "      <td>FELONY</td>\n",
       "      <td>QUEENS</td>\n",
       "      <td>103</td>\n",
       "      <td>40.69733814</td>\n",
       "      <td>-73.78455674</td>\n",
       "      <td>23</td>\n",
       "      <td>36</td>\n",
       "      <td>12</td>\n",
       "      <td>31</td>\n",
       "      <td>2015</td>\n",
       "    </tr>\n",
       "    <tr>\n",
       "      <th>2</th>\n",
       "      <td>FELONY</td>\n",
       "      <td>MANHATTAN</td>\n",
       "      <td>28</td>\n",
       "      <td>40.80260661</td>\n",
       "      <td>-73.94505191</td>\n",
       "      <td>23</td>\n",
       "      <td>30</td>\n",
       "      <td>12</td>\n",
       "      <td>31</td>\n",
       "      <td>2015</td>\n",
       "    </tr>\n",
       "    <tr>\n",
       "      <th>3</th>\n",
       "      <td>MISDEMEANOR</td>\n",
       "      <td>QUEENS</td>\n",
       "      <td>105</td>\n",
       "      <td>40.65454944</td>\n",
       "      <td>-73.72633879</td>\n",
       "      <td>23</td>\n",
       "      <td>30</td>\n",
       "      <td>12</td>\n",
       "      <td>31</td>\n",
       "      <td>2015</td>\n",
       "    </tr>\n",
       "    <tr>\n",
       "      <th>4</th>\n",
       "      <td>MISDEMEANOR</td>\n",
       "      <td>MANHATTAN</td>\n",
       "      <td>13</td>\n",
       "      <td>40.7380024</td>\n",
       "      <td>-73.98789129</td>\n",
       "      <td>23</td>\n",
       "      <td>25</td>\n",
       "      <td>12</td>\n",
       "      <td>31</td>\n",
       "      <td>2015</td>\n",
       "    </tr>\n",
       "  </tbody>\n",
       "</table>\n",
       "</div>"
      ],
      "text/plain": [
       "    LAW_CAT_CD    BORO_NM ADDR_PCT_CD     Latitude     Longitude HOUR MINUTE  \\\n",
       "0       FELONY      BRONX          44  40.82884833  -73.91666114   23     45   \n",
       "1       FELONY     QUEENS         103  40.69733814  -73.78455674   23     36   \n",
       "2       FELONY  MANHATTAN          28  40.80260661  -73.94505191   23     30   \n",
       "3  MISDEMEANOR     QUEENS         105  40.65454944  -73.72633879   23     30   \n",
       "4  MISDEMEANOR  MANHATTAN          13   40.7380024  -73.98789129   23     25   \n",
       "\n",
       "  MONTH DAY  YEAR  \n",
       "0    12  31  2015  \n",
       "1    12  31  2015  \n",
       "2    12  31  2015  \n",
       "3    12  31  2015  \n",
       "4    12  31  2015  "
      ]
     },
     "execution_count": 8,
     "metadata": {},
     "output_type": "execute_result"
    }
   ],
   "source": [
    "complaint_data['HOUR'] = complaint_data['CMPLNT_FR_TM'].apply(lambda x: x.split(':')[0])\n",
    "complaint_data['MINUTE'] = complaint_data['CMPLNT_FR_TM'].apply(lambda x: x.split(':')[1])\n",
    "complaint_data['MONTH'] = complaint_data['CMPLNT_FR_DT'].apply(lambda x: x.split('/')[0])\n",
    "complaint_data['DAY'] = complaint_data['CMPLNT_FR_DT'].apply(lambda x: x.split('/')[1])\n",
    "complaint_data['YEAR'] = complaint_data['CMPLNT_FR_DT'].apply(lambda x: x.split('/')[2])\n",
    "complaint_data = complaint_data.drop([\"CMPLNT_FR_DT\", \"CMPLNT_FR_TM\"], axis=1)\n",
    "complaint_data.head(5)"
   ]
  },
  {
   "cell_type": "code",
   "execution_count": 9,
   "metadata": {},
   "outputs": [],
   "source": [
    "complaint_data[\"ACTUAL\"] = pd.factorize(complaint_data['LAW_CAT_CD'])[0]\n",
    "complaint_data = complaint_data.drop(['LAW_CAT_CD'], axis=1)\n"
   ]
  },
  {
   "cell_type": "code",
   "execution_count": 10,
   "metadata": {},
   "outputs": [
    {
     "data": {
      "text/html": [
       "<div>\n",
       "<style scoped>\n",
       "    .dataframe tbody tr th:only-of-type {\n",
       "        vertical-align: middle;\n",
       "    }\n",
       "\n",
       "    .dataframe tbody tr th {\n",
       "        vertical-align: top;\n",
       "    }\n",
       "\n",
       "    .dataframe thead th {\n",
       "        text-align: right;\n",
       "    }\n",
       "</style>\n",
       "<table border=\"1\" class=\"dataframe\">\n",
       "  <thead>\n",
       "    <tr style=\"text-align: right;\">\n",
       "      <th></th>\n",
       "      <th>ADDR_PCT_CD</th>\n",
       "      <th>Latitude</th>\n",
       "      <th>Longitude</th>\n",
       "      <th>HOUR</th>\n",
       "      <th>MINUTE</th>\n",
       "      <th>MONTH</th>\n",
       "      <th>DAY</th>\n",
       "      <th>YEAR</th>\n",
       "      <th>ACTUAL</th>\n",
       "      <th>BRONX</th>\n",
       "      <th>BROOKLYN</th>\n",
       "      <th>MANHATTAN</th>\n",
       "      <th>QUEENS</th>\n",
       "      <th>STATEN ISLAND</th>\n",
       "    </tr>\n",
       "  </thead>\n",
       "  <tbody>\n",
       "    <tr>\n",
       "      <th>0</th>\n",
       "      <td>44</td>\n",
       "      <td>40.82884833</td>\n",
       "      <td>-73.91666114</td>\n",
       "      <td>23</td>\n",
       "      <td>45</td>\n",
       "      <td>12</td>\n",
       "      <td>31</td>\n",
       "      <td>2015</td>\n",
       "      <td>0</td>\n",
       "      <td>1</td>\n",
       "      <td>0</td>\n",
       "      <td>0</td>\n",
       "      <td>0</td>\n",
       "      <td>0</td>\n",
       "    </tr>\n",
       "    <tr>\n",
       "      <th>1</th>\n",
       "      <td>103</td>\n",
       "      <td>40.69733814</td>\n",
       "      <td>-73.78455674</td>\n",
       "      <td>23</td>\n",
       "      <td>36</td>\n",
       "      <td>12</td>\n",
       "      <td>31</td>\n",
       "      <td>2015</td>\n",
       "      <td>0</td>\n",
       "      <td>0</td>\n",
       "      <td>0</td>\n",
       "      <td>0</td>\n",
       "      <td>1</td>\n",
       "      <td>0</td>\n",
       "    </tr>\n",
       "    <tr>\n",
       "      <th>2</th>\n",
       "      <td>28</td>\n",
       "      <td>40.80260661</td>\n",
       "      <td>-73.94505191</td>\n",
       "      <td>23</td>\n",
       "      <td>30</td>\n",
       "      <td>12</td>\n",
       "      <td>31</td>\n",
       "      <td>2015</td>\n",
       "      <td>0</td>\n",
       "      <td>0</td>\n",
       "      <td>0</td>\n",
       "      <td>1</td>\n",
       "      <td>0</td>\n",
       "      <td>0</td>\n",
       "    </tr>\n",
       "    <tr>\n",
       "      <th>3</th>\n",
       "      <td>105</td>\n",
       "      <td>40.65454944</td>\n",
       "      <td>-73.72633879</td>\n",
       "      <td>23</td>\n",
       "      <td>30</td>\n",
       "      <td>12</td>\n",
       "      <td>31</td>\n",
       "      <td>2015</td>\n",
       "      <td>1</td>\n",
       "      <td>0</td>\n",
       "      <td>0</td>\n",
       "      <td>0</td>\n",
       "      <td>1</td>\n",
       "      <td>0</td>\n",
       "    </tr>\n",
       "    <tr>\n",
       "      <th>4</th>\n",
       "      <td>13</td>\n",
       "      <td>40.7380024</td>\n",
       "      <td>-73.98789129</td>\n",
       "      <td>23</td>\n",
       "      <td>25</td>\n",
       "      <td>12</td>\n",
       "      <td>31</td>\n",
       "      <td>2015</td>\n",
       "      <td>1</td>\n",
       "      <td>0</td>\n",
       "      <td>0</td>\n",
       "      <td>1</td>\n",
       "      <td>0</td>\n",
       "      <td>0</td>\n",
       "    </tr>\n",
       "  </tbody>\n",
       "</table>\n",
       "</div>"
      ],
      "text/plain": [
       "  ADDR_PCT_CD     Latitude     Longitude HOUR MINUTE MONTH DAY  YEAR  ACTUAL  \\\n",
       "0          44  40.82884833  -73.91666114   23     45    12  31  2015       0   \n",
       "1         103  40.69733814  -73.78455674   23     36    12  31  2015       0   \n",
       "2          28  40.80260661  -73.94505191   23     30    12  31  2015       0   \n",
       "3         105  40.65454944  -73.72633879   23     30    12  31  2015       1   \n",
       "4          13   40.7380024  -73.98789129   23     25    12  31  2015       1   \n",
       "\n",
       "   BRONX  BROOKLYN  MANHATTAN  QUEENS  STATEN ISLAND  \n",
       "0      1         0          0       0              0  \n",
       "1      0         0          0       1              0  \n",
       "2      0         0          1       0              0  \n",
       "3      0         0          0       1              0  \n",
       "4      0         0          1       0              0  "
      ]
     },
     "execution_count": 10,
     "metadata": {},
     "output_type": "execute_result"
    }
   ],
   "source": [
    "one_hot2 = pd.get_dummies(complaint_data['BORO_NM'])\n",
    "complaint_data = complaint_data.drop('BORO_NM',axis = 1)\n",
    "complaint_data = complaint_data.join(one_hot2)\n",
    "complaint_data.head(5)"
   ]
  },
  {
   "cell_type": "code",
   "execution_count": 12,
   "metadata": {},
   "outputs": [],
   "source": [
    "labels = np.array(complaint_data['ACTUAL'])\n",
    "complaint_data = complaint_data.drop('ACTUAL', axis = 1)\n",
    "feature_list = list(complaint_data.columns)\n",
    "features = np.array(complaint_data)\n",
    "rand = np.random.randint(0,features.shape[0], 400000)\n",
    "features = features[rand]"
   ]
  },
  {
   "cell_type": "code",
   "execution_count": 13,
   "metadata": {},
   "outputs": [],
   "source": [
    "labels = labels[rand]\n",
    "from sklearn.model_selection import train_test_split\n",
    "# Split the data into training and testing sets\n",
    "train_features, test_features, train_labels, test_labels = train_test_split(features, labels, test_size = 0.25, random_state = 42)"
   ]
  },
  {
   "cell_type": "code",
   "execution_count": 14,
   "metadata": {},
   "outputs": [
    {
     "name": "stdout",
     "output_type": "stream",
     "text": [
      "Training Features Shape: (300000, 13)\n",
      "Training Labels Shape: (300000,)\n",
      "Testing Features Shape: (100000, 13)\n",
      "Testing Labels Shape: (100000,)\n"
     ]
    }
   ],
   "source": [
    "print('Training Features Shape:', train_features.shape)\n",
    "print('Training Labels Shape:', train_labels.shape)\n",
    "print('Testing Features Shape:', test_features.shape)\n",
    "print('Testing Labels Shape:', test_labels.shape)"
   ]
  },
  {
   "cell_type": "code",
   "execution_count": 15,
   "metadata": {},
   "outputs": [],
   "source": [
    "from sklearn.neighbors import KNeighborsClassifier\n",
    "from sklearn import metrics\n",
    "#Create KNN Classifier\n",
    "knn = KNeighborsClassifier(n_neighbors=150)\n",
    "\n",
    "#Train the model using the training sets\n",
    "knn.fit(train_features, train_labels)\n",
    "\n",
    "#Predict the response for test dataset\n",
    "y_pred = knn.predict(test_features)"
   ]
  },
  {
   "cell_type": "code",
   "execution_count": 16,
   "metadata": {},
   "outputs": [
    {
     "name": "stdout",
     "output_type": "stream",
     "text": [
      "[[ 1177 30199     0]\n",
      " [ 1258 54268     0]\n",
      " [  342 12756     0]]\n",
      "              precision    recall  f1-score   support\n",
      "\n",
      "           0       0.42      0.04      0.07     31376\n",
      "           1       0.56      0.98      0.71     55526\n",
      "           2       0.00      0.00      0.00     13098\n",
      "\n",
      "   micro avg       0.55      0.55      0.55    100000\n",
      "   macro avg       0.33      0.34      0.26    100000\n",
      "weighted avg       0.44      0.55      0.42    100000\n",
      "\n",
      "Accuracy: 0.55445\n",
      "Mean Absolute Error: 0.45 degrees.\n"
     ]
    },
    {
     "name": "stderr",
     "output_type": "stream",
     "text": [
      "/opt/conda/lib/python3.6/site-packages/sklearn/metrics/classification.py:1143: UndefinedMetricWarning: Precision and F-score are ill-defined and being set to 0.0 in labels with no predicted samples.\n",
      "  'precision', 'predicted', average, warn_for)\n"
     ]
    }
   ],
   "source": [
    "from sklearn.metrics import classification_report, confusion_matrix  \n",
    "print(confusion_matrix(test_labels, y_pred))  \n",
    "print(classification_report(test_labels, y_pred))  \n",
    "print(\"Accuracy:\",metrics.accuracy_score(test_labels, y_pred))\n",
    "errors = abs(y_pred - test_labels)\n",
    "print('Mean Absolute Error:', round(np.mean(errors), 2), 'degrees.')"
   ]
  },
  {
   "cell_type": "code",
   "execution_count": 17,
   "metadata": {},
   "outputs": [
    {
     "name": "stdout",
     "output_type": "stream",
     "text": [
      "Accuracy per fold: \n",
      "[ 0.55408615  0.554525    0.553425    0.55395     0.55425     0.55525\n",
      "  0.554475    0.554975    0.554375    0.55501388]\n",
      "Average accuracy:  0.554432502319\n"
     ]
    }
   ],
   "source": [
    "from sklearn.model_selection import cross_val_score\n",
    "knn_scores = cross_val_score(estimator= knn,     # Model to test\n",
    "                X= features,  \n",
    "                y = labels,      # Target variable\n",
    "                scoring = \"accuracy\",               # Scoring metric    \n",
    "                cv=10)                              # Cross validation folds\n",
    "\n",
    "print(\"Accuracy per fold: \")\n",
    "print(knn_scores)\n",
    "print(\"Average accuracy: \", knn_scores.mean())"
   ]
  },
  {
   "cell_type": "code",
   "execution_count": 18,
   "metadata": {},
   "outputs": [],
   "source": [
    "from sklearn.tree import DecisionTreeClassifier  \n",
    "classifier = DecisionTreeClassifier(max_depth=10)  \n",
    "classifier.fit(train_features, train_labels)\n",
    "y_pred = classifier.predict(test_features) "
   ]
  },
  {
   "cell_type": "code",
   "execution_count": 19,
   "metadata": {},
   "outputs": [
    {
     "name": "stdout",
     "output_type": "stream",
     "text": [
      "[[ 1563 29778    35]\n",
      " [ 1462 54021    43]\n",
      " [  367 12699    32]]\n",
      "              precision    recall  f1-score   support\n",
      "\n",
      "           0       0.46      0.05      0.09     31376\n",
      "           1       0.56      0.97      0.71     55526\n",
      "           2       0.29      0.00      0.00     13098\n",
      "\n",
      "   micro avg       0.56      0.56      0.56    100000\n",
      "   macro avg       0.44      0.34      0.27    100000\n",
      "weighted avg       0.49      0.56      0.42    100000\n",
      "\n",
      "Accuracy: 0.55616\n",
      "Mean Absolute Error: 0.45 degrees.\n"
     ]
    }
   ],
   "source": [
    "print(confusion_matrix(test_labels, y_pred))  \n",
    "print(classification_report(test_labels, y_pred))  \n",
    "print(\"Accuracy:\",metrics.accuracy_score(test_labels, y_pred))\n",
    "errors = abs(y_pred - test_labels)\n",
    "print('Mean Absolute Error:', round(np.mean(errors), 2), 'degrees.')"
   ]
  },
  {
   "cell_type": "code",
   "execution_count": 20,
   "metadata": {},
   "outputs": [
    {
     "name": "stdout",
     "output_type": "stream",
     "text": [
      "Accuracy per fold: \n",
      "[ 0.55656109  0.557275    0.556825    0.55555     0.5559      0.556525\n",
      "  0.555825    0.55595     0.555475    0.55538888]\n",
      "Average accuracy:  0.556127497069\n"
     ]
    }
   ],
   "source": [
    "dt_scores = cross_val_score(estimator= classifier,     \n",
    "                X= features,  \n",
    "                y = labels,     \n",
    "                scoring = \"accuracy\",               \n",
    "                cv=10)                              \n",
    "\n",
    "print(\"Accuracy per fold: \")\n",
    "print(dt_scores)\n",
    "print(\"Average accuracy: \", dt_scores.mean())"
   ]
  },
  {
   "cell_type": "code",
   "execution_count": null,
   "metadata": {},
   "outputs": [],
   "source": []
  },
  {
   "cell_type": "code",
   "execution_count": null,
   "metadata": {},
   "outputs": [],
   "source": []
  }
 ],
 "metadata": {
  "kernelspec": {
   "display_name": "Python 3",
   "language": "python",
   "name": "python3"
  },
  "language_info": {
   "codemirror_mode": {
    "name": "ipython",
    "version": 3
   },
   "file_extension": ".py",
   "mimetype": "text/x-python",
   "name": "python",
   "nbconvert_exporter": "python",
   "pygments_lexer": "ipython3",
   "version": "3.6.5"
  }
 },
 "nbformat": 4,
 "nbformat_minor": 2
}
