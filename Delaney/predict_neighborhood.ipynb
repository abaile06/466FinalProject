{
 "cells": [
  {
   "cell_type": "code",
   "execution_count": 1,
   "metadata": {},
   "outputs": [],
   "source": [
    "import numpy as np\n",
    "import pandas as pd\n",
    "import os\n",
    "import matplotlib.pyplot as plt\n",
    "import collections"
   ]
  },
  {
   "cell_type": "code",
   "execution_count": 2,
   "metadata": {},
   "outputs": [],
   "source": [
    "complaint_data = pd.read_csv('NYPD_Complaint_Data_Historic.csv', dtype=object)\n",
    "population_data = pd.read_csv('Population_by_Borough_NYC.csv')\n",
    "crime_data = pd.read_csv('Crime_Column_Description.csv')"
   ]
  },
  {
   "cell_type": "code",
   "execution_count": 3,
   "metadata": {},
   "outputs": [
    {
     "data": {
      "text/html": [
       "<div>\n",
       "<style scoped>\n",
       "    .dataframe tbody tr th:only-of-type {\n",
       "        vertical-align: middle;\n",
       "    }\n",
       "\n",
       "    .dataframe tbody tr th {\n",
       "        vertical-align: top;\n",
       "    }\n",
       "\n",
       "    .dataframe thead th {\n",
       "        text-align: right;\n",
       "    }\n",
       "</style>\n",
       "<table border=\"1\" class=\"dataframe\">\n",
       "  <thead>\n",
       "    <tr style=\"text-align: right;\">\n",
       "      <th></th>\n",
       "      <th>CMPLNT_FR_DT</th>\n",
       "      <th>CMPLNT_FR_TM</th>\n",
       "      <th>LAW_CAT_CD</th>\n",
       "      <th>BORO_NM</th>\n",
       "    </tr>\n",
       "  </thead>\n",
       "  <tbody>\n",
       "    <tr>\n",
       "      <th>0</th>\n",
       "      <td>12/31/2015</td>\n",
       "      <td>23:45:00</td>\n",
       "      <td>FELONY</td>\n",
       "      <td>BRONX</td>\n",
       "    </tr>\n",
       "    <tr>\n",
       "      <th>1</th>\n",
       "      <td>12/31/2015</td>\n",
       "      <td>23:36:00</td>\n",
       "      <td>FELONY</td>\n",
       "      <td>QUEENS</td>\n",
       "    </tr>\n",
       "    <tr>\n",
       "      <th>2</th>\n",
       "      <td>12/31/2015</td>\n",
       "      <td>23:30:00</td>\n",
       "      <td>FELONY</td>\n",
       "      <td>MANHATTAN</td>\n",
       "    </tr>\n",
       "    <tr>\n",
       "      <th>3</th>\n",
       "      <td>12/31/2015</td>\n",
       "      <td>23:30:00</td>\n",
       "      <td>MISDEMEANOR</td>\n",
       "      <td>QUEENS</td>\n",
       "    </tr>\n",
       "    <tr>\n",
       "      <th>4</th>\n",
       "      <td>12/31/2015</td>\n",
       "      <td>23:25:00</td>\n",
       "      <td>MISDEMEANOR</td>\n",
       "      <td>MANHATTAN</td>\n",
       "    </tr>\n",
       "  </tbody>\n",
       "</table>\n",
       "</div>"
      ],
      "text/plain": [
       "  CMPLNT_FR_DT CMPLNT_FR_TM   LAW_CAT_CD    BORO_NM\n",
       "0   12/31/2015     23:45:00       FELONY      BRONX\n",
       "1   12/31/2015     23:36:00       FELONY     QUEENS\n",
       "2   12/31/2015     23:30:00       FELONY  MANHATTAN\n",
       "3   12/31/2015     23:30:00  MISDEMEANOR     QUEENS\n",
       "4   12/31/2015     23:25:00  MISDEMEANOR  MANHATTAN"
      ]
     },
     "execution_count": 3,
     "metadata": {},
     "output_type": "execute_result"
    }
   ],
   "source": [
    "complaint_data = complaint_data.drop([\"KY_CD\", \"PD_CD\", \"ADDR_PCT_CD\", \"Latitude\", \"Longitude\", \"RPT_DT\", \"PARKS_NM\", \"HADEVELOPT\", \"Lat_Lon\", \"PREM_TYP_DESC\", \"LOC_OF_OCCUR_DESC\", \"PD_DESC\", \"OFNS_DESC\", \"CMPLNT_TO_TM\", \"CMPLNT_TO_DT\", \"CMPLNT_NUM\", \"X_COORD_CD\", \"Y_COORD_CD\", \"JURIS_DESC\", \"CRM_ATPT_CPTD_CD\"], axis = 1)\n",
    "complaint_data = complaint_data.dropna()\n",
    "complaint_data.head(5)"
   ]
  },
  {
   "cell_type": "code",
   "execution_count": 4,
   "metadata": {},
   "outputs": [
    {
     "data": {
      "text/html": [
       "<div>\n",
       "<style scoped>\n",
       "    .dataframe tbody tr th:only-of-type {\n",
       "        vertical-align: middle;\n",
       "    }\n",
       "\n",
       "    .dataframe tbody tr th {\n",
       "        vertical-align: top;\n",
       "    }\n",
       "\n",
       "    .dataframe thead th {\n",
       "        text-align: right;\n",
       "    }\n",
       "</style>\n",
       "<table border=\"1\" class=\"dataframe\">\n",
       "  <thead>\n",
       "    <tr style=\"text-align: right;\">\n",
       "      <th></th>\n",
       "      <th>LAW_CAT_CD</th>\n",
       "      <th>BORO_NM</th>\n",
       "      <th>HOUR</th>\n",
       "      <th>MINUTE</th>\n",
       "      <th>MONTH</th>\n",
       "      <th>DAY</th>\n",
       "      <th>YEAR</th>\n",
       "    </tr>\n",
       "  </thead>\n",
       "  <tbody>\n",
       "    <tr>\n",
       "      <th>0</th>\n",
       "      <td>FELONY</td>\n",
       "      <td>BRONX</td>\n",
       "      <td>23</td>\n",
       "      <td>45</td>\n",
       "      <td>12</td>\n",
       "      <td>31</td>\n",
       "      <td>2015</td>\n",
       "    </tr>\n",
       "    <tr>\n",
       "      <th>1</th>\n",
       "      <td>FELONY</td>\n",
       "      <td>QUEENS</td>\n",
       "      <td>23</td>\n",
       "      <td>36</td>\n",
       "      <td>12</td>\n",
       "      <td>31</td>\n",
       "      <td>2015</td>\n",
       "    </tr>\n",
       "    <tr>\n",
       "      <th>2</th>\n",
       "      <td>FELONY</td>\n",
       "      <td>MANHATTAN</td>\n",
       "      <td>23</td>\n",
       "      <td>30</td>\n",
       "      <td>12</td>\n",
       "      <td>31</td>\n",
       "      <td>2015</td>\n",
       "    </tr>\n",
       "    <tr>\n",
       "      <th>3</th>\n",
       "      <td>MISDEMEANOR</td>\n",
       "      <td>QUEENS</td>\n",
       "      <td>23</td>\n",
       "      <td>30</td>\n",
       "      <td>12</td>\n",
       "      <td>31</td>\n",
       "      <td>2015</td>\n",
       "    </tr>\n",
       "    <tr>\n",
       "      <th>4</th>\n",
       "      <td>MISDEMEANOR</td>\n",
       "      <td>MANHATTAN</td>\n",
       "      <td>23</td>\n",
       "      <td>25</td>\n",
       "      <td>12</td>\n",
       "      <td>31</td>\n",
       "      <td>2015</td>\n",
       "    </tr>\n",
       "  </tbody>\n",
       "</table>\n",
       "</div>"
      ],
      "text/plain": [
       "    LAW_CAT_CD    BORO_NM HOUR MINUTE MONTH DAY  YEAR\n",
       "0       FELONY      BRONX   23     45    12  31  2015\n",
       "1       FELONY     QUEENS   23     36    12  31  2015\n",
       "2       FELONY  MANHATTAN   23     30    12  31  2015\n",
       "3  MISDEMEANOR     QUEENS   23     30    12  31  2015\n",
       "4  MISDEMEANOR  MANHATTAN   23     25    12  31  2015"
      ]
     },
     "execution_count": 4,
     "metadata": {},
     "output_type": "execute_result"
    }
   ],
   "source": [
    "complaint_data['HOUR'] = complaint_data['CMPLNT_FR_TM'].apply(lambda x: x.split(':')[0])\n",
    "complaint_data['MINUTE'] = complaint_data['CMPLNT_FR_TM'].apply(lambda x: x.split(':')[1])\n",
    "complaint_data['MONTH'] = complaint_data['CMPLNT_FR_DT'].apply(lambda x: x.split('/')[0])\n",
    "complaint_data['DAY'] = complaint_data['CMPLNT_FR_DT'].apply(lambda x: x.split('/')[1])\n",
    "complaint_data['YEAR'] = complaint_data['CMPLNT_FR_DT'].apply(lambda x: x.split('/')[2])\n",
    "complaint_data = complaint_data.drop([\"CMPLNT_FR_DT\", \"CMPLNT_FR_TM\"], axis=1)\n",
    "complaint_data.head(5)"
   ]
  },
  {
   "cell_type": "code",
   "execution_count": 5,
   "metadata": {},
   "outputs": [],
   "source": [
    "\n",
    "complaint_data[\"LAW_CAT_CD\"] = pd.factorize(complaint_data['LAW_CAT_CD'])[0]\n"
   ]
  },
  {
   "cell_type": "code",
   "execution_count": 6,
   "metadata": {},
   "outputs": [
    {
     "data": {
      "text/html": [
       "<div>\n",
       "<style scoped>\n",
       "    .dataframe tbody tr th:only-of-type {\n",
       "        vertical-align: middle;\n",
       "    }\n",
       "\n",
       "    .dataframe tbody tr th {\n",
       "        vertical-align: top;\n",
       "    }\n",
       "\n",
       "    .dataframe thead th {\n",
       "        text-align: right;\n",
       "    }\n",
       "</style>\n",
       "<table border=\"1\" class=\"dataframe\">\n",
       "  <thead>\n",
       "    <tr style=\"text-align: right;\">\n",
       "      <th></th>\n",
       "      <th>LAW_CAT_CD</th>\n",
       "      <th>HOUR</th>\n",
       "      <th>MONTH</th>\n",
       "      <th>ACTUAL</th>\n",
       "    </tr>\n",
       "  </thead>\n",
       "  <tbody>\n",
       "    <tr>\n",
       "      <th>0</th>\n",
       "      <td>0</td>\n",
       "      <td>23</td>\n",
       "      <td>12</td>\n",
       "      <td>0</td>\n",
       "    </tr>\n",
       "    <tr>\n",
       "      <th>1</th>\n",
       "      <td>0</td>\n",
       "      <td>23</td>\n",
       "      <td>12</td>\n",
       "      <td>1</td>\n",
       "    </tr>\n",
       "    <tr>\n",
       "      <th>2</th>\n",
       "      <td>0</td>\n",
       "      <td>23</td>\n",
       "      <td>12</td>\n",
       "      <td>2</td>\n",
       "    </tr>\n",
       "    <tr>\n",
       "      <th>3</th>\n",
       "      <td>1</td>\n",
       "      <td>23</td>\n",
       "      <td>12</td>\n",
       "      <td>1</td>\n",
       "    </tr>\n",
       "    <tr>\n",
       "      <th>4</th>\n",
       "      <td>1</td>\n",
       "      <td>23</td>\n",
       "      <td>12</td>\n",
       "      <td>2</td>\n",
       "    </tr>\n",
       "  </tbody>\n",
       "</table>\n",
       "</div>"
      ],
      "text/plain": [
       "   LAW_CAT_CD HOUR MONTH  ACTUAL\n",
       "0           0   23    12       0\n",
       "1           0   23    12       1\n",
       "2           0   23    12       2\n",
       "3           1   23    12       1\n",
       "4           1   23    12       2"
      ]
     },
     "execution_count": 6,
     "metadata": {},
     "output_type": "execute_result"
    }
   ],
   "source": [
    "complaint_data[\"ACTUAL\"] = pd.factorize(complaint_data['BORO_NM'])[0]\n",
    "complaint_data = complaint_data.drop(['BORO_NM'], axis=1)\n",
    "complaint_data.head(5)\n",
    "complaint_data = complaint_data.drop(['MINUTE', 'DAY', 'YEAR'], axis=1)\n",
    "complaint_data.head()"
   ]
  },
  {
   "cell_type": "code",
   "execution_count": 7,
   "metadata": {},
   "outputs": [],
   "source": [
    "labels = np.array(complaint_data['ACTUAL'])\n",
    "complaint_data = complaint_data.drop('ACTUAL', axis = 1)\n",
    "feature_list = list(complaint_data.columns)\n",
    "features = np.array(complaint_data)"
   ]
  },
  {
   "cell_type": "code",
   "execution_count": 8,
   "metadata": {},
   "outputs": [],
   "source": [
    "from sklearn.model_selection import train_test_split\n",
    "train_features, test_features, train_labels, test_labels = train_test_split(features, labels, test_size = 0.25, random_state = 42)"
   ]
  },
  {
   "cell_type": "code",
   "execution_count": 9,
   "metadata": {},
   "outputs": [
    {
     "name": "stdout",
     "output_type": "stream",
     "text": [
      "Training Features Shape: (15000, 3)\n",
      "Training Labels Shape: (15000,)\n",
      "Testing Features Shape: (5000, 3)\n",
      "Testing Labels Shape: (5000,)\n"
     ]
    }
   ],
   "source": [
    "print('Training Features Shape:', train_features.shape)\n",
    "print('Training Labels Shape:', train_labels.shape)\n",
    "print('Testing Features Shape:', test_features.shape)\n",
    "print('Testing Labels Shape:', test_labels.shape)"
   ]
  },
  {
   "cell_type": "code",
   "execution_count": 10,
   "metadata": {},
   "outputs": [],
   "source": [
    "from sklearn.neighbors import KNeighborsClassifier\n",
    "from sklearn import metrics\n",
    "knn = KNeighborsClassifier(n_neighbors=10)\n",
    "\n",
    "knn.fit(train_features, train_labels)\n",
    "\n",
    "y_pred = knn.predict(test_features)"
   ]
  },
  {
   "cell_type": "code",
   "execution_count": 11,
   "metadata": {},
   "outputs": [
    {
     "name": "stdout",
     "output_type": "stream",
     "text": [
      "[[314 167 256 345   2]\n",
      " [274 201 243 313   2]\n",
      " [302 184 306 332   1]\n",
      " [430 240 361 485   2]\n",
      " [ 54  39  65  80   2]]\n",
      "              precision    recall  f1-score   support\n",
      "\n",
      "           0       0.23      0.29      0.26      1084\n",
      "           1       0.24      0.19      0.22      1033\n",
      "           2       0.25      0.27      0.26      1125\n",
      "           3       0.31      0.32      0.32      1518\n",
      "           4       0.22      0.01      0.02       240\n",
      "\n",
      "   micro avg       0.26      0.26      0.26      5000\n",
      "   macro avg       0.25      0.22      0.21      5000\n",
      "weighted avg       0.26      0.26      0.25      5000\n",
      "\n",
      "Accuracy: 0.2616\n"
     ]
    }
   ],
   "source": [
    "from sklearn.metrics import classification_report, confusion_matrix  \n",
    "print(confusion_matrix(test_labels, y_pred))  \n",
    "print(classification_report(test_labels, y_pred))  \n",
    "print(\"Accuracy:\",metrics.accuracy_score(test_labels, y_pred))"
   ]
  },
  {
   "cell_type": "code",
   "execution_count": 12,
   "metadata": {},
   "outputs": [
    {
     "name": "stdout",
     "output_type": "stream",
     "text": [
      "Accuracy per fold: \n",
      "[ 0.24975025  0.24075924  0.26486757  0.25837081  0.252       0.25562781\n",
      "  0.26363182  0.25762881  0.24662331  0.25425425]\n",
      "Average accuracy:  0.254351388145\n"
     ]
    }
   ],
   "source": [
    "from sklearn.model_selection import cross_val_score\n",
    "knn_scores = cross_val_score(estimator= knn,     # Model to test\n",
    "                X= features,  \n",
    "                y = labels,      # Target variable\n",
    "                scoring = \"accuracy\",               # Scoring metric    \n",
    "                cv=10)                              # Cross validation folds\n",
    "\n",
    "print(\"Accuracy per fold: \")\n",
    "print(knn_scores)\n",
    "print(\"Average accuracy: \", knn_scores.mean())"
   ]
  },
  {
   "cell_type": "code",
   "execution_count": 13,
   "metadata": {},
   "outputs": [],
   "source": [
    "from sklearn.tree import DecisionTreeClassifier  \n",
    "classifier = DecisionTreeClassifier(max_depth=8)  \n",
    "classifier.fit(train_features, train_labels)\n",
    "y_pred = classifier.predict(test_features) "
   ]
  },
  {
   "cell_type": "code",
   "execution_count": 14,
   "metadata": {},
   "outputs": [
    {
     "name": "stdout",
     "output_type": "stream",
     "text": [
      "[[  97   81  138  768    0]\n",
      " [  83   81  129  740    0]\n",
      " [  93   83  142  807    0]\n",
      " [ 127  106  187 1098    0]\n",
      " [  14   11   37  178    0]]\n",
      "              precision    recall  f1-score   support\n",
      "\n",
      "           0       0.23      0.09      0.13      1084\n",
      "           1       0.22      0.08      0.12      1033\n",
      "           2       0.22      0.13      0.16      1125\n",
      "           3       0.31      0.72      0.43      1518\n",
      "           4       0.00      0.00      0.00       240\n",
      "\n",
      "   micro avg       0.28      0.28      0.28      5000\n",
      "   macro avg       0.20      0.20      0.17      5000\n",
      "weighted avg       0.24      0.28      0.22      5000\n",
      "\n",
      "Accuracy: 0.2836\n"
     ]
    },
    {
     "name": "stderr",
     "output_type": "stream",
     "text": [
      "/opt/conda/lib/python3.6/site-packages/sklearn/metrics/classification.py:1143: UndefinedMetricWarning: Precision and F-score are ill-defined and being set to 0.0 in labels with no predicted samples.\n",
      "  'precision', 'predicted', average, warn_for)\n"
     ]
    }
   ],
   "source": [
    "print(confusion_matrix(test_labels, y_pred))  \n",
    "print(classification_report(test_labels, y_pred))  \n",
    "print(\"Accuracy:\",metrics.accuracy_score(test_labels, y_pred))"
   ]
  },
  {
   "cell_type": "code",
   "execution_count": 15,
   "metadata": {},
   "outputs": [
    {
     "name": "stdout",
     "output_type": "stream",
     "text": [
      "Accuracy per fold: \n",
      "[ 0.27922078  0.28571429  0.27836082  0.27336332  0.2835      0.28014007\n",
      "  0.27963982  0.28914457  0.28764382  0.28378378]\n",
      "Average accuracy:  0.282051127079\n"
     ]
    }
   ],
   "source": [
    "dt_scores = cross_val_score(estimator= classifier,    \n",
    "                X= features,  \n",
    "                y = labels,     \n",
    "                scoring = \"accuracy\",               \n",
    "                cv=10)                             \n",
    "\n",
    "print(\"Accuracy per fold: \")\n",
    "print(dt_scores)\n",
    "print(\"Average accuracy: \", dt_scores.mean())"
   ]
  },
  {
   "cell_type": "code",
   "execution_count": null,
   "metadata": {},
   "outputs": [],
   "source": []
  },
  {
   "cell_type": "code",
   "execution_count": null,
   "metadata": {},
   "outputs": [],
   "source": []
  }
 ],
 "metadata": {
  "kernelspec": {
   "display_name": "Python 3",
   "language": "python",
   "name": "python3"
  },
  "language_info": {
   "codemirror_mode": {
    "name": "ipython",
    "version": 3
   },
   "file_extension": ".py",
   "mimetype": "text/x-python",
   "name": "python",
   "nbconvert_exporter": "python",
   "pygments_lexer": "ipython3",
   "version": "3.6.5"
  }
 },
 "nbformat": 4,
 "nbformat_minor": 2
}
